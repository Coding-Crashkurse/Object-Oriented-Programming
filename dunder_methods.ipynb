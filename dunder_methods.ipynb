{
 "cells": [
  {
   "cell_type": "markdown",
   "metadata": {},
   "source": [
    "# Understanding Python's Dunder Methods\n",
    "In this notebook, we'll explore some of Python's special methods, commonly known as dunder (double underscore) methods. These methods allow us to define the behavior of objects in various contexts such as string representation, arithmetic operations, and comparison. We'll start with a basic class example and progressively delve into more complex uses of dunder methods.\n"
   ]
  },
  {
   "cell_type": "code",
   "execution_count": null,
   "metadata": {},
   "outputs": [],
   "source": [
    "class Archer:\n",
    "    def __init__(self, hp, arrows):\n",
    "        self.hp = hp\n",
    "        self.arrows = arrows\n",
    "\n",
    "    def shoot_arrow(self):\n",
    "        if self.arrows > 0:\n",
    "            self.arrows -= 1\n",
    "            return \"Arrow shot!\"\n",
    "        else:\n",
    "            return \"Out of arrows!\"\n",
    "\n",
    "archer = Archer(100, 20)"
   ]
  },
  {
   "cell_type": "code",
   "execution_count": null,
   "metadata": {},
   "outputs": [],
   "source": [
    "print(archer)"
   ]
  },
  {
   "cell_type": "code",
   "execution_count": null,
   "metadata": {},
   "outputs": [],
   "source": [
    "class Archer:\n",
    "    def __init__(self, hp, arrows):\n",
    "        self.hp = hp\n",
    "        self.arrows = arrows\n",
    "\n",
    "    def shoot_arrow(self):\n",
    "        if self.arrows > 0:\n",
    "            self.arrows -= 1\n",
    "            return \"Arrow shot!\"\n",
    "        else:\n",
    "            return \"Out of arrows!\"\n",
    "\n",
    "    # def __str__(self):\n",
    "    #     return f\"Archer with {self.hp} HP and {self.arrows} arrows.\"\n",
    "\n",
    "    def __repr__(self):\n",
    "        return f\"Archer({self.hp}, {self.arrows})\""
   ]
  },
  {
   "cell_type": "code",
   "execution_count": null,
   "metadata": {},
   "outputs": [],
   "source": [
    "archer1 = Archer(100, 20)\n",
    "archer2 = Archer(100, 20)\n",
    "print(archer1)"
   ]
  },
  {
   "cell_type": "code",
   "execution_count": null,
   "metadata": {},
   "outputs": [],
   "source": [
    "try:\n",
    "    archer1 > archer2\n",
    "except Exception as e:\n",
    "    print(e)"
   ]
  },
  {
   "cell_type": "code",
   "execution_count": 6,
   "metadata": {},
   "outputs": [],
   "source": [
    "class Archer:\n",
    "    def __init__(self, hp, arrows):\n",
    "        self.hp = hp\n",
    "        self.arrows = arrows\n",
    "\n",
    "    def __repr__(self):\n",
    "        return f\"Archer({self.hp}, {self.arrows})\"\n",
    "\n",
    "    def __eq__(self, other):\n",
    "        if not isinstance(other, Archer):\n",
    "            return NotImplemented\n",
    "        return self.hp == other.hp and self.arrows == other.arrows\n",
    "\n",
    "\n",
    "    def __gt__(self, other):\n",
    "        if not isinstance(other, Archer):\n",
    "            return NotImplemented\n",
    "        return self.hp > other.hp\n",
    "\n",
    "    # def __lt__(self, other):\n",
    "    #     if not isinstance(other, Archer):\n",
    "    #         return NotImplemented\n",
    "    #     return self.hp < other.hp"
   ]
  },
  {
   "cell_type": "code",
   "execution_count": 7,
   "metadata": {},
   "outputs": [
    {
     "name": "stdout",
     "output_type": "stream",
     "text": [
      "False\n",
      "False\n"
     ]
    }
   ],
   "source": [
    "archer1 = Archer(100, 20)\n",
    "archer2 = Archer(80, 20)\n",
    "print(archer1 < archer2)\n",
    "print(archer1 == archer2)"
   ]
  },
  {
   "cell_type": "code",
   "execution_count": 13,
   "metadata": {},
   "outputs": [],
   "source": [
    "class Archer:\n",
    "    # __hash__ = None\n",
    "\n",
    "    def __init__(self, hp, arrows):\n",
    "        self.hp = hp\n",
    "        self.arrows = arrows\n",
    "\n",
    "    def __repr__(self):\n",
    "        return f\"Archer({self.hp}, {self.arrows})\"\n",
    "\n",
    "    # def __hash__(self):\n",
    "    #     return hash((self.hp, self.arrows))"
   ]
  },
  {
   "cell_type": "code",
   "execution_count": 14,
   "metadata": {},
   "outputs": [],
   "source": [
    "archer1 = Archer(100, 20)\n",
    "mydict = {archer1: \"bla\"}"
   ]
  },
  {
   "cell_type": "code",
   "execution_count": null,
   "metadata": {},
   "outputs": [],
   "source": [
    "class Company:\n",
    "    def __init__(self):\n",
    "        self.archers = []\n",
    "\n",
    "    def add_archer(self, archer):\n",
    "        if isinstance(archer, Archer):\n",
    "            self.archers.append(archer)\n",
    "        else:\n",
    "            raise ValueError(\"Can only add Archer instances.\")\n",
    "\n",
    "    def __iter__(self):\n",
    "        self._index = 0\n",
    "        return self\n",
    "\n",
    "    def __next__(self):\n",
    "        if self._index < len(self.archers):\n",
    "            result = self.archers[self._index]\n",
    "            self._index += 1\n",
    "            return result\n",
    "        else:\n",
    "            raise StopIteration"
   ]
  },
  {
   "cell_type": "code",
   "execution_count": null,
   "metadata": {},
   "outputs": [],
   "source": [
    "company = Company()\n",
    "company.add_archer(Archer(100, 10))\n",
    "company.add_archer(Archer(90, 20))\n",
    "\n",
    "for archer in company:\n",
    "    print(archer)\n"
   ]
  }
 ],
 "metadata": {
  "kernelspec": {
   "display_name": "Python 3",
   "language": "python",
   "name": "python3"
  },
  "language_info": {
   "codemirror_mode": {
    "name": "ipython",
    "version": 3
   },
   "file_extension": ".py",
   "mimetype": "text/x-python",
   "name": "python",
   "nbconvert_exporter": "python",
   "pygments_lexer": "ipython3",
   "version": "3.11.0"
  }
 },
 "nbformat": 4,
 "nbformat_minor": 2
}
