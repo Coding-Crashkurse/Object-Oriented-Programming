{
 "cells": [
  {
   "cell_type": "markdown",
   "metadata": {},
   "source": [
    "\n",
    "# Introduction to Object-Oriented Programming in Python\n",
    "This notebook provides an introduction to Object-Oriented Programming (OOP) in Python. \n",
    "We will start with basic concepts and gradually move to more advanced topics, including class methods and static methods.\n"
   ]
  },
  {
   "cell_type": "markdown",
   "id": "677d31ec",
   "metadata": {},
   "source": [
    "## Basic Class Definition\n",
    "Here we define a basic class named `Archer`. Initially, this class has no attributes or methods."
   ]
  },
  {
   "cell_type": "code",
   "execution_count": 1,
   "metadata": {},
   "outputs": [],
   "source": [
    "class Archer:\n",
    "    pass"
   ]
  },
  {
   "cell_type": "markdown",
   "id": "ae26c975",
   "metadata": {},
   "source": [
    "## Creating Instances and Adding Attributes Dynamically\n",
    "In this section, we create two instances of the `Archer` class and add attributes to them dynamically."
   ]
  },
  {
   "cell_type": "code",
   "execution_count": 2,
   "metadata": {},
   "outputs": [],
   "source": [
    "archer1 = Archer()\n",
    "archer2 = Archer()\n",
    "\n",
    "archer1.hp = 100\n",
    "archer2.arrows = 20"
   ]
  },
  {
   "cell_type": "markdown",
   "id": "9b6a4af0",
   "metadata": {},
   "source": [
    "## Accessing Attributes\n",
    "Here, we demonstrate accessing an attribute (`hp`) of an instance (`archer1`)."
   ]
  },
  {
   "cell_type": "code",
   "execution_count": 3,
   "metadata": {},
   "outputs": [
    {
     "name": "stdout",
     "output_type": "stream",
     "text": [
      "100\n"
     ]
    }
   ],
   "source": [
    "print(archer1.hp)"
   ]
  },
  {
   "cell_type": "markdown",
   "id": "056cd948",
   "metadata": {},
   "source": [
    "## Errors \n",
    "Attempting to access an attribute that hasn't been set leads to an error. Here, we'll see how Python handles such cases."
   ]
  },
  {
   "cell_type": "code",
   "execution_count": 4,
   "metadata": {},
   "outputs": [
    {
     "ename": "AttributeError",
     "evalue": "'Archer' object has no attribute 'hp'",
     "output_type": "error",
     "traceback": [
      "\u001b[1;31m---------------------------------------------------------------------------\u001b[0m",
      "\u001b[1;31mAttributeError\u001b[0m                            Traceback (most recent call last)",
      "Cell \u001b[1;32mIn[4], line 1\u001b[0m\n\u001b[1;32m----> 1\u001b[0m \u001b[38;5;28mprint\u001b[39m(\u001b[43marcher2\u001b[49m\u001b[38;5;241;43m.\u001b[39;49m\u001b[43mhp\u001b[49m)\n",
      "\u001b[1;31mAttributeError\u001b[0m: 'Archer' object has no attribute 'hp'"
     ]
    }
   ],
   "source": [
    "print(archer2.hp)"
   ]
  },
  {
   "cell_type": "markdown",
   "id": "e6927ecf",
   "metadata": {},
   "source": [
    "## Defining Class Attributes\n",
    "Now, we redefine the `Archer` class to include class attributes `hp` and `arrows`. Class attributes are shared by all instances of the class."
   ]
  },
  {
   "cell_type": "code",
   "execution_count": 5,
   "metadata": {},
   "outputs": [],
   "source": [
    "class Archer:\n",
    "    hp = 100\n",
    "    arrows = 10\n"
   ]
  },
  {
   "cell_type": "code",
   "execution_count": 6,
   "metadata": {},
   "outputs": [
    {
     "data": {
      "text/plain": [
       "100"
      ]
     },
     "execution_count": 6,
     "metadata": {},
     "output_type": "execute_result"
    }
   ],
   "source": [
    "archer1 = Archer()\n",
    "archer2 = Archer()\n",
    "archer1.hp"
   ]
  },
  {
   "cell_type": "code",
   "execution_count": 7,
   "metadata": {},
   "outputs": [],
   "source": [
    "archer1 = Archer()"
   ]
  },
  {
   "cell_type": "markdown",
   "id": "81279c53",
   "metadata": {},
   "source": [
    "## `__init__` Method\n",
    "The `__init__` method is a special method in Python, often referred to as the constructor. It is automatically called when a new instance of a class is created. It is used to initialize the instance's attributes and perform any other necessary setup. Here's an example:"
   ]
  },
  {
   "cell_type": "code",
   "execution_count": 9,
   "id": "ce9842a4",
   "metadata": {},
   "outputs": [],
   "source": [
    "class Archer:\n",
    "    def __init__(self, hp, arrows):\n",
    "        self.hp = hp\n",
    "        self.arrows = arrows\n",
    "\n",
    "archer1 = Archer(100, 20)\n"
   ]
  },
  {
   "cell_type": "markdown",
   "id": "5771bc47",
   "metadata": {},
   "source": [
    "## Instance Methods\n",
    "Instance methods are functions defined inside a class and can only be called from an instance of that class. They take `self` as the first parameter, which refers to the instance on which the method is called. Here's an example:"
   ]
  },
  {
   "cell_type": "code",
   "execution_count": 11,
   "id": "9f1c645e",
   "metadata": {},
   "outputs": [
    {
     "name": "stdout",
     "output_type": "stream",
     "text": [
      "Arrow shot! 2 arrows left!\n",
      "Arrow shot! 1 arrows left!\n",
      "Arrow shot! 0 arrows left!\n",
      "Out of arrows!\n"
     ]
    }
   ],
   "source": [
    "class Archer:\n",
    "    def __init__(self, hp, arrows):\n",
    "        self.hp = hp\n",
    "        self.arrows = arrows\n",
    "\n",
    "    def shoot_arrow(self):\n",
    "        if self.arrows > 0:\n",
    "            self.arrows -= 1\n",
    "            print(f\"Arrow shot! {self.arrows} arrows left!\")\n",
    "        else:\n",
    "            print(\"Out of arrows!\")\n",
    "\n",
    "archer1 = Archer(100, 3)\n",
    "archer1.shoot_arrow()\n",
    "archer1.shoot_arrow()\n",
    "archer1.shoot_arrow()\n",
    "archer1.shoot_arrow()\n"
   ]
  },
  {
   "cell_type": "markdown",
   "id": "37033cea",
   "metadata": {},
   "source": [
    "## Instance Dictionary\n",
    "Every instance in Python has a built-in dictionary `__dict__` that stores all the attributes and their values for that instance. This dictionary can be used to access and modify the instance's attributes dynamically. Here's an example:"
   ]
  },
  {
   "cell_type": "code",
   "execution_count": 12,
   "id": "3e76ef47",
   "metadata": {},
   "outputs": [
    {
     "name": "stdout",
     "output_type": "stream",
     "text": [
      "{'hp': 100, 'arrows': 20}\n"
     ]
    }
   ],
   "source": [
    "archer1 = Archer(100, 20)\n",
    "print(archer1.__dict__)\n"
   ]
  },
  {
   "cell_type": "markdown",
   "id": "81e36d50",
   "metadata": {},
   "source": [
    "## Class vs Instance Dictionaries\n",
    "In Python, classes and instances have separate dictionaries. A class dictionary stores attributes and methods that are shared across all instances of the class, while an instance dictionary stores attributes that are unique to each instance. Here's an example to illustrate the difference:"
   ]
  },
  {
   "cell_type": "code",
   "execution_count": 13,
   "id": "f03c10f3",
   "metadata": {},
   "outputs": [
    {
     "name": "stdout",
     "output_type": "stream",
     "text": [
      "Instance Dictionary: {'hp': 100, 'arrows': 20}\n",
      "Class Dictionary: {'__module__': '__main__', 'species': 'Human', '__init__': <function Archer.__init__ at 0x0000020C8FEA4220>, '__dict__': <attribute '__dict__' of 'Archer' objects>, '__weakref__': <attribute '__weakref__' of 'Archer' objects>, '__doc__': None}\n"
     ]
    }
   ],
   "source": [
    "class Archer:\n",
    "    species = 'Human'  # Class attribute\n",
    "\n",
    "    def __init__(self, hp, arrows):\n",
    "        self.hp = hp  # Instance attribute\n",
    "        self.arrows = arrows  # Instance attribute\n",
    "\n",
    "archer1 = Archer(100, 20)\n",
    "print(\"Instance Dictionary:\", archer1.__dict__)\n",
    "print(\"Class Dictionary:\", Archer.__dict__)\n"
   ]
  },
  {
   "cell_type": "markdown",
   "metadata": {},
   "source": [
    "You can still access the instance variable species of archer1, despite you can not see it in the instance dictionary.\n",
    "When Python does not find an atribute in the instance, it will look for it in the class definition. Its there is also not attribute, an Attribute error will be raised"
   ]
  },
  {
   "cell_type": "markdown",
   "id": "5abd07c1",
   "metadata": {},
   "source": [
    "\n",
    "## Instance Methods\n",
    "Instance methods are functions defined inside a class and can only be called from an instance of that class. \n",
    "They access and modify the state of the object (instance) and typically have `self` as their first parameter.\n"
   ]
  },
  {
   "cell_type": "code",
   "execution_count": null,
   "id": "f4e4c897",
   "metadata": {},
   "outputs": [],
   "source": [
    "\n",
    "class Archer:\n",
    "    def __init__(self, hp, arrows):\n",
    "        self.hp = hp\n",
    "        self.arrows = arrows\n",
    "\n",
    "    def shoot_arrow(self):\n",
    "        if self.arrows > 0:\n",
    "            self.arrows -= 1\n",
    "            return \"Arrow shot!\"\n",
    "        else:\n",
    "            return \"Out of arrows!\"\n",
    "\n",
    "archer = Archer(100, 10)\n",
    "print(archer.shoot_arrow())\n",
    "print(archer.shoot_arrow())\n"
   ]
  },
  {
   "cell_type": "markdown",
   "id": "48282bd6",
   "metadata": {},
   "source": [
    "\n",
    "## Class Methods\n",
    "Class methods are methods that are bound to the class rather than its objects. \n",
    "They have access to the class state and are marked with a decorator `@classmethod`. \n",
    "Their first parameter is usually `cls`, which refers to the class itself.\n"
   ]
  },
  {
   "cell_type": "code",
   "execution_count": null,
   "id": "dfc4ecfc",
   "metadata": {},
   "outputs": [],
   "source": [
    "\n",
    "class Archer:\n",
    "    _total_archers = 0\n",
    "\n",
    "    def __init__(self):\n",
    "        Archer._total_archers += 1\n",
    "\n",
    "    @classmethod\n",
    "    def count_archers(cls):\n",
    "        return f\"Total archers: {cls._total_archers}\"\n",
    "\n",
    "Archer()\n",
    "Archer()\n",
    "print(Archer.count_archers())\n"
   ]
  },
  {
   "cell_type": "markdown",
   "id": "2c97110f",
   "metadata": {},
   "source": [
    "### Real-world Example of Class Method"
   ]
  },
  {
   "cell_type": "code",
   "execution_count": null,
   "id": "d1776c6e",
   "metadata": {},
   "outputs": [],
   "source": [
    "\n",
    "class Archer:\n",
    "    def __init__(self, hp, arrows):\n",
    "        self.hp = hp\n",
    "        self.arrows = arrows\n",
    "\n",
    "    @classmethod\n",
    "    def from_string(cls, archer_str):\n",
    "        hp, arrows = map(int, archer_str.split('-'))\n",
    "        return cls(hp, arrows)\n",
    "\n",
    "archer = Archer.from_string(\"100-10\")\n",
    "print(archer.hp, archer.arrows)\n"
   ]
  },
  {
   "cell_type": "markdown",
   "id": "bba276f0",
   "metadata": {},
   "source": [
    "\n",
    "## Static Methods\n",
    "Static methods are similar to regular functions but belong to a class's namespace. \n",
    "They do not require a reference to the class or its instance, and are marked with a decorator `@staticmethod`.\n"
   ]
  },
  {
   "cell_type": "code",
   "execution_count": null,
   "id": "40366790",
   "metadata": {},
   "outputs": [],
   "source": [
    "\n",
    "class Archer:\n",
    "    @staticmethod\n",
    "    def is_strong(hp):\n",
    "        return hp > 50\n",
    "\n",
    "print(Archer.is_strong(60))  # True\n",
    "print(Archer.is_strong(40))  # False\n"
   ]
  }
 ],
 "metadata": {
  "kernelspec": {
   "display_name": "Python 3",
   "language": "python",
   "name": "python3"
  },
  "language_info": {
   "codemirror_mode": {
    "name": "ipython",
    "version": 3
   },
   "file_extension": ".py",
   "mimetype": "text/x-python",
   "name": "python",
   "nbconvert_exporter": "python",
   "pygments_lexer": "ipython3",
   "version": "3.11.0"
  }
 },
 "nbformat": 4,
 "nbformat_minor": 2
}
